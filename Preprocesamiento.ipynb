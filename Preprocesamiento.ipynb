{
  "nbformat": 4,
  "nbformat_minor": 0,
  "metadata": {
    "colab": {
      "name": "Preprocesamiento.ipynb",
      "provenance": [],
      "collapsed_sections": [],
      "authorship_tag": "ABX9TyPv25fSrXcWq8GVcMH6fbaB",
      "include_colab_link": true
    },
    "kernelspec": {
      "name": "python3",
      "display_name": "Python 3"
    },
    "language_info": {
      "name": "python"
    }
  },
  "cells": [
    {
      "cell_type": "markdown",
      "metadata": {
        "id": "view-in-github",
        "colab_type": "text"
      },
      "source": [
        "<a href=\"https://colab.research.google.com/github/nestorap/food-not-food/blob/main/Preprocesamiento.ipynb\" target=\"_parent\"><img src=\"https://colab.research.google.com/assets/colab-badge.svg\" alt=\"Open In Colab\"/></a>"
      ]
    },
    {
      "cell_type": "code",
      "source": [
        "! git clone https://github.com/nestorap/food-not-food.git"
      ],
      "metadata": {
        "colab": {
          "base_uri": "https://localhost:8080/"
        },
        "id": "wtDZfxYw9m92",
        "outputId": "ddc62159-742f-4198-f4ad-ed7ad9da0e84"
      },
      "execution_count": 3,
      "outputs": [
        {
          "output_type": "stream",
          "name": "stdout",
          "text": [
            "Cloning into 'food-not-food'...\n",
            "remote: Enumerating objects: 20, done.\u001b[K\n",
            "remote: Counting objects: 100% (20/20), done.\u001b[K\n",
            "remote: Compressing objects: 100% (18/18), done.\u001b[K\n",
            "remote: Total 20 (delta 7), reused 7 (delta 2), pack-reused 0\u001b[K\n",
            "Unpacking objects: 100% (20/20), done.\n"
          ]
        }
      ]
    },
    {
      "cell_type": "code",
      "execution_count": 16,
      "metadata": {
        "id": "f-7Zvngw3cYe"
      },
      "outputs": [],
      "source": [
        "import pandas as pd\n",
        "import numpy as np\n",
        "import os\n",
        "import matplotlib.pyplot as plt\n",
        "import csv\n",
        "import ast\n",
        "from nltk.corpus import wordnet as wn\n",
        "import nltk"
      ]
    },
    {
      "cell_type": "code",
      "source": [
        "# Descargamos palabrasgo obtener las que son de comida\n",
        "\n",
        "nltk.download('popular')"
      ],
      "metadata": {
        "id": "UyASAiWX-NWm"
      },
      "execution_count": null,
      "outputs": []
    },
    {
      "cell_type": "code",
      "source": [
        "# Aquí leemos los nombres de las clases de las imágenes\n",
        "\n",
        "with open(\"food-not-food/imges_list.txt\", \"r\") as f:\n",
        "  images_classes = ast.literal_eval(f.read())"
      ],
      "metadata": {
        "id": "bnMOhvJ2-WQr"
      },
      "execution_count": 18,
      "outputs": []
    },
    {
      "cell_type": "code",
      "source": [
        "# Recorremos los items del diccionario\n",
        "\n",
        "for k, v in images_classes.items():\n",
        "  if \"banana\" in v:\n",
        "    print(k)\n",
        "\n"
      ],
      "metadata": {
        "colab": {
          "base_uri": "https://localhost:8080/"
        },
        "id": "f3-_w8N5_N7d",
        "outputId": "7cff4c47-0de7-4d08-9756-266213852b84"
      },
      "execution_count": 19,
      "outputs": [
        {
          "output_type": "stream",
          "name": "stdout",
          "text": [
            "954\n"
          ]
        }
      ]
    },
    {
      "cell_type": "markdown",
      "source": [
        "## Nombre de comidas de nltk"
      ],
      "metadata": {
        "id": "LdBshxM9FJEm"
      }
    },
    {
      "cell_type": "code",
      "source": [
        "# Obtenemos las palabras de comida del dataset de nltk\n",
        "# Con esta lista podemos filtrar las imágenes para sacar aquellas fotos que sean de comida y que no\n",
        "food = wn.synset(\"food.n.02\")\n",
        "food_list = list(set([w for s in food.closure(lambda s: s.hyponyms()) for w in s.lemma_names()])) #hyponyms parece ser que significa sinónimos\n"
      ],
      "metadata": {
        "id": "eg6hm_T8_Pka"
      },
      "execution_count": 32,
      "outputs": []
    },
    {
      "cell_type": "code",
      "source": [
        "# Check para banana\n",
        "\"banana\" in food_list"
      ],
      "metadata": {
        "colab": {
          "base_uri": "https://localhost:8080/"
        },
        "id": "mh4jdNyNFl4i",
        "outputId": "dd65f489-ef4b-4c8a-c322-f3290e1b54de"
      },
      "execution_count": 21,
      "outputs": [
        {
          "output_type": "execute_result",
          "data": {
            "text/plain": [
              "True"
            ]
          },
          "metadata": {},
          "execution_count": 21
        }
      ]
    },
    {
      "cell_type": "markdown",
      "source": [
        "## Filtramos los items para que coincidan a la hora de descargar"
      ],
      "metadata": {
        "id": "9adgEc-XJWtn"
      }
    },
    {
      "cell_type": "code",
      "source": [
        "# limpiamos los string para eliminar algunos signos de puntuación\n",
        "\n",
        "lista_food = [food_item.lower().split(\"_\") for food_item in food_list]"
      ],
      "metadata": {
        "id": "3Hj6ZzaFGpws"
      },
      "execution_count": 37,
      "outputs": []
    },
    {
      "cell_type": "code",
      "source": [
        "# Unimos las palabras en una misma lista. La celda de antes obtenemos una lista de listas de palabras\n",
        "\n",
        "food_lista = [food for food_sublist in lista_food for food in food_sublist]"
      ],
      "metadata": {
        "id": "iKPhwFOXMmX5"
      },
      "execution_count": 41,
      "outputs": []
    },
    {
      "cell_type": "code",
      "source": [
        " # checkeamos\n",
        "\n",
        " for k,v in images_classes.items():\n",
        "   if v.lower() in food_lista:\n",
        "     print(k, v)"
      ],
      "metadata": {
        "colab": {
          "base_uri": "https://localhost:8080/"
        },
        "id": "1dx0pFqQJvS6",
        "outputId": "f6cda767-f717-4740-da22-45a87dd01157"
      },
      "execution_count": 43,
      "outputs": [
        {
          "output_type": "stream",
          "name": "stdout",
          "text": [
            "8 hen\n",
            "85 quail\n",
            "86 partridge\n",
            "99 goose\n",
            "113 snail\n",
            "331 hare\n",
            "339 sorrel\n",
            "390 eel\n",
            "599 honeycomb\n",
            "723 pinwheel\n",
            "923 plate\n",
            "932 pretzel\n",
            "937 broccoli\n",
            "938 cauliflower\n",
            "946 cardoon\n",
            "947 mushroom\n",
            "949 strawberry\n",
            "950 orange\n",
            "951 lemon\n",
            "952 fig\n",
            "954 banana\n",
            "957 pomegranate\n",
            "968 cup\n",
            "987 corn\n",
            "988 acorn\n"
          ]
        }
      ]
    },
    {
      "cell_type": "code",
      "source": [
        "#ntersection = list1_as_set. intersection(list2) \n",
        "\n",
        "comida_supreme = [i for i in set(food_lista).intersection([v for k,v in images_classes.items()])]"
      ],
      "metadata": {
        "id": "pqf9Gv_OMCje"
      },
      "execution_count": 52,
      "outputs": []
    },
    {
      "cell_type": "code",
      "source": [
        ""
      ],
      "metadata": {
        "id": "-BYmWjcQQgWp"
      },
      "execution_count": null,
      "outputs": []
    }
  ]
}