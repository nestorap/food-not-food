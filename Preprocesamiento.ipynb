{
  "nbformat": 4,
  "nbformat_minor": 0,
  "metadata": {
    "colab": {
      "name": "Preprocesamiento.ipynb",
      "provenance": [],
      "collapsed_sections": [
        "uNvbNfvHBAyN"
      ],
      "authorship_tag": "ABX9TyOkOvzIZHAmYpeHhWhanNWi",
      "include_colab_link": true
    },
    "kernelspec": {
      "name": "python3",
      "display_name": "Python 3"
    },
    "language_info": {
      "name": "python"
    }
  },
  "cells": [
    {
      "cell_type": "markdown",
      "metadata": {
        "id": "view-in-github",
        "colab_type": "text"
      },
      "source": [
        "<a href=\"https://colab.research.google.com/github/nestorap/food-not-food/blob/main/Preprocesamiento.ipynb\" target=\"_parent\"><img src=\"https://colab.research.google.com/assets/colab-badge.svg\" alt=\"Open In Colab\"/></a>"
      ]
    },
    {
      "cell_type": "code",
      "source": [
        "! git clone https://github.com/nestorap/food-not-food.git"
      ],
      "metadata": {
        "id": "wtDZfxYw9m92"
      },
      "execution_count": null,
      "outputs": []
    },
    {
      "cell_type": "code",
      "execution_count": 130,
      "metadata": {
        "id": "f-7Zvngw3cYe"
      },
      "outputs": [],
      "source": [
        "import pandas as pd\n",
        "import numpy as np\n",
        "import os\n",
        "import matplotlib.pyplot as plt\n",
        "import csv\n",
        "import ast\n",
        "from nltk.corpus import wordnet as wn\n",
        "import nltk\n",
        "import random"
      ]
    },
    {
      "cell_type": "code",
      "source": [
        "# Descargamos palabrasgo obtener las que son de comida\n",
        "\n",
        "nltk.download('popular')"
      ],
      "metadata": {
        "id": "UyASAiWX-NWm"
      },
      "execution_count": null,
      "outputs": []
    },
    {
      "cell_type": "code",
      "source": [
        "# Aquí leemos los nombres de las clases de las imágenes\n",
        "\n",
        "with open(\"food-not-food/imges_list.txt\", \"r\") as f:\n",
        "  images_classes = ast.literal_eval(f.read())"
      ],
      "metadata": {
        "id": "bnMOhvJ2-WQr"
      },
      "execution_count": 4,
      "outputs": []
    },
    {
      "cell_type": "code",
      "source": [
        "# Recorremos los items del diccionario\n",
        "\n",
        "for k, v in images_classes.items():\n",
        "  if \"banana\" in v:\n",
        "    print(k)\n",
        "\n"
      ],
      "metadata": {
        "colab": {
          "base_uri": "https://localhost:8080/"
        },
        "id": "f3-_w8N5_N7d",
        "outputId": "4affe13f-5d16-4bf8-8863-338e96f2e7fb"
      },
      "execution_count": 5,
      "outputs": [
        {
          "output_type": "stream",
          "name": "stdout",
          "text": [
            "954\n"
          ]
        }
      ]
    },
    {
      "cell_type": "markdown",
      "source": [
        "## Nombre de comidas de nltk"
      ],
      "metadata": {
        "id": "LdBshxM9FJEm"
      }
    },
    {
      "cell_type": "code",
      "source": [
        "# Obtenemos las palabras de comida del dataset de nltk\n",
        "# Con esta lista podemos filtrar las imágenes para sacar aquellas fotos que sean de comida y que no\n",
        "food = wn.synset(\"food.n.02\")\n",
        "food_list = list(set([w for s in food.closure(lambda s: s.hyponyms()) for w in s.lemma_names()])) #hyponyms parece ser que significa sinónimos\n"
      ],
      "metadata": {
        "id": "eg6hm_T8_Pka"
      },
      "execution_count": 6,
      "outputs": []
    },
    {
      "cell_type": "code",
      "source": [
        "# Check para banana\n",
        "\"banana\" in food_list"
      ],
      "metadata": {
        "colab": {
          "base_uri": "https://localhost:8080/"
        },
        "id": "mh4jdNyNFl4i",
        "outputId": "c7774fa3-eb10-45f6-840a-f98ab0a719da"
      },
      "execution_count": 7,
      "outputs": [
        {
          "output_type": "execute_result",
          "data": {
            "text/plain": [
              "True"
            ]
          },
          "metadata": {},
          "execution_count": 7
        }
      ]
    },
    {
      "cell_type": "markdown",
      "source": [
        "## Filtramos los items para que coincidan a la hora de descargar"
      ],
      "metadata": {
        "id": "9adgEc-XJWtn"
      }
    },
    {
      "cell_type": "code",
      "source": [
        "# limpiamos los string para eliminar algunos signos de puntuación\n",
        "\n",
        "lista_food = [food_item.lower().split(\"_\") for food_item in food_list]"
      ],
      "metadata": {
        "id": "3Hj6ZzaFGpws"
      },
      "execution_count": 8,
      "outputs": []
    },
    {
      "cell_type": "code",
      "source": [
        "# Unimos las palabras en una misma lista. La celda de antes obtenemos una lista de listas de palabras\n",
        "\n",
        "food_lista = [food for food_sublist in lista_food for food in food_sublist]"
      ],
      "metadata": {
        "id": "iKPhwFOXMmX5"
      },
      "execution_count": 9,
      "outputs": []
    },
    {
      "cell_type": "code",
      "source": [
        " # checkeamos\n",
        "\n",
        " for k,v in images_classes.items():\n",
        "   if v.lower() in food_lista:\n",
        "     print(k, v)"
      ],
      "metadata": {
        "colab": {
          "base_uri": "https://localhost:8080/"
        },
        "id": "1dx0pFqQJvS6",
        "outputId": "94a08508-ab57-40b0-9605-fab6e46c24bb"
      },
      "execution_count": 10,
      "outputs": [
        {
          "output_type": "stream",
          "name": "stdout",
          "text": [
            "8 hen\n",
            "85 quail\n",
            "86 partridge\n",
            "99 goose\n",
            "113 snail\n",
            "331 hare\n",
            "339 sorrel\n",
            "390 eel\n",
            "599 honeycomb\n",
            "723 pinwheel\n",
            "923 plate\n",
            "932 pretzel\n",
            "937 broccoli\n",
            "938 cauliflower\n",
            "946 cardoon\n",
            "947 mushroom\n",
            "949 strawberry\n",
            "950 orange\n",
            "951 lemon\n",
            "952 fig\n",
            "954 banana\n",
            "957 pomegranate\n",
            "968 cup\n",
            "987 corn\n",
            "988 acorn\n"
          ]
        }
      ]
    },
    {
      "cell_type": "code",
      "source": [
        "imagenet_food_clases = dict()\n",
        "\n",
        "for k,v in images_classes.items():\n",
        "  imagenet_class_set = set([space_word.strip(\" \") for space_word in v.lower().split(\",\")]) \n",
        "  if imagenet_class_set.intersection(food_lista):\n",
        "    imagenet_food_clases[k] = v"
      ],
      "metadata": {
        "id": "pqf9Gv_OMCje"
      },
      "execution_count": 11,
      "outputs": []
    },
    {
      "cell_type": "code",
      "source": [
        "# Una vez que tenemos las clases vamos a ver cuales no deberian estar aqui. Vamos a filtrar manualmente y poner los indices que no deberian ser comida\n",
        "\n",
        "no_food = [457, 494, 567, 626, 723, 738, 760, 923, 972, 976]"
      ],
      "metadata": {
        "id": "-BYmWjcQQgWp"
      },
      "execution_count": 12,
      "outputs": []
    },
    {
      "cell_type": "code",
      "source": [
        "# Del diccionario que hemos obtenido, eliminamos aquellas llaves que no sean comida\n",
        "\n",
        "imagenet_manual_filter_clases = dict()\n",
        "\n",
        "for k,v in imagenet_food_clases.items():\n",
        "  if k not in no_food: # no queremos las llaves que no sean comida\n",
        "    imagenet_manual_filter_clases[k] = v"
      ],
      "metadata": {
        "id": "uu93NVfjQrsW"
      },
      "execution_count": 13,
      "outputs": []
    },
    {
      "cell_type": "code",
      "source": [
        "# Vamos a sacar una lista de las llaves del diccionario de comida para mas tarde filtrar y sacar las clases que no son comida\n",
        "\n",
        "llaves_comida = [i for i in imagenet_manual_filter_clases.keys()]"
      ],
      "metadata": {
        "id": "bGmOH-HAciIj"
      },
      "execution_count": 14,
      "outputs": []
    },
    {
      "cell_type": "markdown",
      "source": [
        "## Sacaremos lista de comida y no-comida de imagenet"
      ],
      "metadata": {
        "id": "okunkdyXcPn-"
      }
    },
    {
      "cell_type": "code",
      "source": [
        "imagenet_non_food_clases = dict()\n",
        "\n",
        "for k,v in images_classes.items():\n",
        "  if k not in llaves_comida:\n",
        "    imagenet_non_food_clases[k] = v"
      ],
      "metadata": {
        "id": "p9Rz0T2VQtzb"
      },
      "execution_count": 15,
      "outputs": []
    },
    {
      "cell_type": "markdown",
      "source": [
        "## Siguientes fase del proyecto\n",
        "1- Hemos filtrado las comidas y las no-comidas del dataset con los nombres y sus índices. \\\n",
        "2- Ahora parece ser que tenemos que seguir otra regla para que Imagenet entienda las clases que queremos. \\\n",
        "3- Hay que leer un csv de github que aparece en el tutorial \\\n",
        "4- Volver 10 min atras en el video para recordar lo que estaba haciendo\n",
        "\n",
        "----"
      ],
      "metadata": {
        "id": "kmeIxVrHh0W3"
      }
    },
    {
      "cell_type": "markdown",
      "source": [
        "## Imagenet keys\n",
        "\n",
        "El script para descargar las imágenes utiliza las llaves de las clases de Imagenet. Por ejemplo --> n09858165 n01539573 n03405111.  \n",
        "Vamos a mapear la lista para sacar esas llaves o ids.\n",
        "\n",
        "Imagenet data downloader script - https://github.com/mf1024/ImageNet-Datasets-Downloader"
      ],
      "metadata": {
        "id": "qOa2E78UxW7N"
      }
    },
    {
      "cell_type": "code",
      "source": [
        "# Aquí tenemos las imagenes de Imaganet con sus clases y llaves\n",
        "\n",
        "df = pd.read_csv(\"https://raw.githubusercontent.com/mf1024/ImageNet-Datasets-Downloader/master/classes_in_imagenet.csv\")\n",
        "df[\"class_name\"] = df.loc[:,\"class_name\"].str.lower()"
      ],
      "metadata": {
        "id": "yLLC8-XNbpSm"
      },
      "execution_count": 16,
      "outputs": []
    },
    {
      "cell_type": "code",
      "source": [
        " # Borramos los nans para que no nos fastidien al filtrar\n",
        "\n",
        "df.dropna(inplace=True)"
      ],
      "metadata": {
        "id": "81lLFIA33YDP"
      },
      "execution_count": 17,
      "outputs": []
    },
    {
      "cell_type": "code",
      "source": [
        "# Filtramos el dataframe con las clases que tenemos en la lista de food_list\n",
        "\n",
        "df_no_food = df.loc[~df[\"class_name\"].isin(food_lista),:]\n",
        "df_food = df.loc[df[\"class_name\"].isin(food_lista),:]"
      ],
      "metadata": {
        "id": "1sgiAVukdRF7"
      },
      "execution_count": 18,
      "outputs": []
    },
    {
      "cell_type": "code",
      "source": [
        "# Eliminamos las clases que no son comida del df_food\n",
        "# Lo haremos de manera manual. Mejor hacerlo de manera automática siempre que se pueda\n",
        "\n",
        "no_food_list = [\n",
        "                \"ball\",\n",
        "                \"puppy\",\n",
        "                \"dog\",\n",
        "                \"game\",\n",
        "                \"bar\",\n",
        "                \"blade\",\n",
        "                \"garden\",\n",
        "                \"hand\",\n",
        "                \"head\",\n",
        "                \"jacket\",\n",
        "                \"junk\",\n",
        "                \"key\",\n",
        "                \"leg\",\n",
        "                \"oven\",\n",
        "                \"pin\",\n",
        "                \"pinwheel\",\n",
        "                \"plate\",\n",
        "                \"pot\",\n",
        "                \"rack\",\n",
        "                \"refrigerator\",\n",
        "                \"saddle\",\n",
        "                \"shank\",\n",
        "                \"spring\",\n",
        "                \"steamer\",\n",
        "                \"stick\",\n",
        "                \"temple\",\n",
        "                \"turck\",\n",
        "                \"turban\",\n",
        "                \"ring\",\n",
        "                \"cup\",\n",
        "                \"rock\",\n",
        "                \"shell\",\n",
        "                \"pilot\",\n",
        "                \"runner\",\n",
        "                \"smith\",\n",
        "                \"ash\",\n",
        "                \"sand\"\n",
        "]\n",
        "\n"
      ],
      "metadata": {
        "id": "SCIDF_1StUrj"
      },
      "execution_count": 19,
      "outputs": []
    },
    {
      "cell_type": "code",
      "source": [
        "# En la lista anterior tenemos nombres que no son comida en la lista que sí lo son. Esos nombres los vamos a filtrar para quitarlo del df de comida\n",
        "\n",
        "df_food = df_food.loc[(~df[\"class_name\"].isin(no_food_list)),:]\n",
        "df_food.shape[0]"
      ],
      "metadata": {
        "colab": {
          "base_uri": "https://localhost:8080/"
        },
        "id": "L9K3t-Dan04h",
        "outputId": "94b90457-3870-417e-f600-3336fa3d7284"
      },
      "execution_count": 20,
      "outputs": [
        {
          "output_type": "execute_result",
          "data": {
            "text/plain": [
              "861"
            ]
          },
          "metadata": {},
          "execution_count": 20
        }
      ]
    },
    {
      "cell_type": "code",
      "source": [
        "# Hacemos lista de food clases\n",
        "\n",
        "# Lista de los ids de las clases\n",
        "imagenet_food_class_ids = df_food.loc[:,\"synid\"].tolist()\n",
        "# Lista de los nombres de las clases\n",
        "imagenet_food_class_names = df_food.loc[:,\"class_name\"].tolist()\n",
        "# Unimos ids y nombres en un diccionario\n",
        "imagenet_food_class_name_and_ids_dict = dict(zip(imagenet_food_class_ids, imagenet_food_class_names))"
      ],
      "metadata": {
        "id": "FC4qjZIan4A4"
      },
      "execution_count": 29,
      "outputs": []
    },
    {
      "cell_type": "code",
      "source": [
        "# Hacemos lista de no_food clases\n",
        "\n",
        "# Lista de los ids de las clases\n",
        "imagenet_no_food_class_ids = df_no_food.loc[:,\"synid\"].tolist()\n",
        "# Lista de los nombres de las clases\n",
        "imagenet_no_food_class_names = df_no_food.loc[:,\"class_name\"].tolist()\n",
        "# Unimos ids y nombres en un diccionario\n",
        "imagenet_no_food_class_name_and_ids_dict = dict(zip(imagenet_no_food_class_ids, imagenet_no_food_class_names))"
      ],
      "metadata": {
        "id": "F7ydGhLJ8vqL"
      },
      "execution_count": 30,
      "outputs": []
    },
    {
      "cell_type": "code",
      "source": [
        ""
      ],
      "metadata": {
        "id": "KsF4XW25MRZ3"
      },
      "execution_count": 75,
      "outputs": []
    },
    {
      "cell_type": "code",
      "source": [
        "# Lista de los ids de las clases de food\n",
        "food_class_id_list = list(imagenet_food_class_name_and_ids_dict.keys())\n",
        "\n",
        "# Lista de los ids de las clases de no_food\n",
        "no_food_class_id_list = list(imagenet_no_food_class_name_and_ids_dict.keys())\n"
      ],
      "metadata": {
        "id": "C5SazFHIMtSB"
      },
      "execution_count": 75,
      "outputs": []
    },
    {
      "cell_type": "code",
      "source": [
        "# Hacemos funcion para convertir la lista en string para pasarlo al script\n",
        "\n",
        "def convert_list(list):\n",
        "  empty_string = \"\"\n",
        "  for item in list:\n",
        "    empty_string += \" \"+item\n",
        "  empty_string = empty_string[1:]\n",
        "  return empty_string\n",
        "\n",
        "# Obtenemos los ids para pasarle al script del downloader\n",
        "food_class_id_string = convert_list(food_class_id_list)\n",
        "no_food_class_id_string = convert_list(no_food_class_id_list)"
      ],
      "metadata": {
        "id": "-j7KpZqyTEYT"
      },
      "execution_count": 77,
      "outputs": []
    },
    {
      "cell_type": "code",
      "source": [
        ""
      ],
      "metadata": {
        "id": "ZGptdvtjUMQI"
      },
      "execution_count": 78,
      "outputs": []
    },
    {
      "cell_type": "markdown",
      "source": [
        "# Descargamos los datos con comandos en bash\n",
        "En esta parte vamos a descargar las imágenes del repo de github\n",
        "Copiamos dos carpetas con imagenes en el directorio \"model_test_images\" para hacer una red neuronal pequeña. \\\n",
        "Copiamos 2 directorios del dataset descargado de manera random con el siguiente comando en la consola --> cp -r imagenet_images/imagenet_images/'African violet' model_test_images"
      ],
      "metadata": {
        "id": "uNvbNfvHBAyN"
      }
    },
    {
      "cell_type": "code",
      "source": [
        "! git clone https://github.com/mf1024/ImageNet-Datasets-Downloader.git"
      ],
      "metadata": {
        "id": "H0zm9exC_MKB"
      },
      "execution_count": null,
      "outputs": []
    },
    {
      "cell_type": "code",
      "source": [
        "from IPython.display import JSON\n",
        "from google.colab import output\n",
        "from subprocess import getoutput\n",
        "import os\n",
        "\n",
        "def shell(command):\n",
        "  if command.startswith('cd'):\n",
        "    path = command.strip().split(maxsplit=1)[1]\n",
        "    os.chdir(path)\n",
        "    return JSON([''])\n",
        "  return JSON([getoutput(command)])\n",
        "output.register_callback('shell', shell)"
      ],
      "metadata": {
        "id": "dwUmPQiH_bFa"
      },
      "execution_count": 37,
      "outputs": []
    },
    {
      "cell_type": "code",
      "source": [
        "#@title Colab Shell\n",
        "%%html\n",
        "<div id=term_demo></div>\n",
        "<script src=\"https://code.jquery.com/jquery-latest.js\"></script>\n",
        "<script src=\"https://cdn.jsdelivr.net/npm/jquery.terminal/js/jquery.terminal.min.js\"></script>\n",
        "<link href=\"https://cdn.jsdelivr.net/npm/jquery.terminal/css/jquery.terminal.min.css\" rel=\"stylesheet\"/>\n",
        "<script>\n",
        "  $('#term_demo').terminal(async function(command) {\n",
        "      if (command !== '') {\n",
        "          try {\n",
        "              let res = await google.colab.kernel.invokeFunction('shell', [command])\n",
        "              let out = res.data['application/json'][0]\n",
        "              this.echo(new String(out))\n",
        "          } catch(e) {\n",
        "              this.error(new String(e));\n",
        "          }\n",
        "      } else {\n",
        "          this.echo('');\n",
        "      }\n",
        "  }, {\n",
        "      greetings: 'Welcome to Colab Shell',\n",
        "      name: 'colab_demo',\n",
        "      height: 250,\n",
        "      prompt: 'colab > '\n",
        "  });"
      ],
      "metadata": {
        "colab": {
          "base_uri": "https://localhost:8080/",
          "height": 267
        },
        "id": "7QM6SQOWDjhi",
        "outputId": "f009ce8c-fa4b-490f-f8f5-556bafdf399a"
      },
      "execution_count": 119,
      "outputs": [
        {
          "output_type": "display_data",
          "data": {
            "text/html": [
              "<div id=term_demo></div>\n",
              "<script src=\"https://code.jquery.com/jquery-latest.js\"></script>\n",
              "<script src=\"https://cdn.jsdelivr.net/npm/jquery.terminal/js/jquery.terminal.min.js\"></script>\n",
              "<link href=\"https://cdn.jsdelivr.net/npm/jquery.terminal/css/jquery.terminal.min.css\" rel=\"stylesheet\"/>\n",
              "<script>\n",
              "  $('#term_demo').terminal(async function(command) {\n",
              "      if (command !== '') {\n",
              "          try {\n",
              "              let res = await google.colab.kernel.invokeFunction('shell', [command])\n",
              "              let out = res.data['application/json'][0]\n",
              "              this.echo(new String(out))\n",
              "          } catch(e) {\n",
              "              this.error(new String(e));\n",
              "          }\n",
              "      } else {\n",
              "          this.echo('');\n",
              "      }\n",
              "  }, {\n",
              "      greetings: 'Welcome to Colab Shell',\n",
              "      name: 'colab_demo',\n",
              "      height: 250,\n",
              "      prompt: 'colab > '\n",
              "  });"
            ],
            "text/plain": [
              "<IPython.core.display.HTML object>"
            ]
          },
          "metadata": {}
        }
      ]
    },
    {
      "cell_type": "markdown",
      "source": [
        "# Descarga de los datos en el jupyter\n",
        "Aquí, con código en una celda de jupyter, también podemos descargar las imágenes sin ncesidad de abrir una consola"
      ],
      "metadata": {
        "id": "eeg1xdc3XtyF"
      }
    },
    {
      "cell_type": "code",
      "source": [
        "/content/food-not-food/data/imagenet_images/imagenet_images/Beaujolais\n",
        "\n",
        "# Creamos los directorios de las imágenes\n",
        "!mkdir data/"
      ],
      "metadata": {
        "id": "xvbiU8JgYqHc"
      },
      "execution_count": 95,
      "outputs": []
    },
    {
      "cell_type": "code",
      "source": [
        "# Creamos los directorios para los datos de comida y de no comida\n",
        "!mkdir data/food_images\n",
        "!mkdir data/no_food_images\n",
        "\n",
        "# Creamos un directorio para imágenes random\n",
        "!mkdir food-not-food/data/imagenet_images"
      ],
      "metadata": {
        "id": "kyieJY6FbJSu"
      },
      "execution_count": 96,
      "outputs": []
    },
    {
      "cell_type": "code",
      "source": [
        ""
      ],
      "metadata": {
        "id": "tT-TX4RTbOP5"
      },
      "execution_count": 112,
      "outputs": []
    },
    {
      "cell_type": "code",
      "source": [
        "# Descargamos las imágenes de comida\n",
        "!python ImageNet-Datasets-Downloader/downloader.py \\-data_root food-not-food/data/food_images \\-use_class_list=True \\-class_list $food_class_id_string \\-images_per_class 100\n"
      ],
      "metadata": {
        "colab": {
          "base_uri": "https://localhost:8080/"
        },
        "id": "GiGQTgnoDofo",
        "outputId": "dee6f5e4-51b6-4785-e4be-e4145e41f96d"
      },
      "execution_count": 70,
      "outputs": [
        {
          "output_type": "stream",
          "name": "stdout",
          "text": [
            "ERROR:root:Class [i not found in ImageNete\n"
          ]
        }
      ]
    },
    {
      "cell_type": "code",
      "source": [
        "# DEscargamos las imágenes de no_food\n",
        "!python ImageNet-Datasets-Downloader/downloader.py \\-data_root food-not-food/data/imagenet_images \\-number_of_classes 1000 \\-images_per_class 50"
      ],
      "metadata": {
        "id": "kLqORHuGJj0a"
      },
      "execution_count": null,
      "outputs": []
    },
    {
      "cell_type": "code",
      "source": [
        ""
      ],
      "metadata": {
        "id": "UD8Uty_aJ2SQ"
      },
      "execution_count": 112,
      "outputs": []
    },
    {
      "cell_type": "markdown",
      "source": [
        "# Construcción del modelo"
      ],
      "metadata": {
        "id": "idK53Hb2zN0K"
      }
    },
    {
      "cell_type": "code",
      "source": [
        "!pip install tflite_model_maker"
      ],
      "metadata": {
        "id": "aWpb8SIP2ohU"
      },
      "execution_count": null,
      "outputs": []
    },
    {
      "cell_type": "code",
      "source": [
        "import tensorflow as tf\n",
        "import tflite_model_maker"
      ],
      "metadata": {
        "id": "--oduFS6Kfe5"
      },
      "execution_count": 118,
      "outputs": []
    },
    {
      "cell_type": "markdown",
      "source": [
        "### Creamos el train y test de los datos"
      ],
      "metadata": {
        "id": "6q2dNIzvLVpY"
      }
    },
    {
      "cell_type": "code",
      "source": [
        "# Creamos el directorio de train\n",
        "!mkdir model_test_images/train\n",
        "\n",
        "# Creamos el directorio de test\n",
        "!mkdir model_test_images/test"
      ],
      "metadata": {
        "id": "ItKatGB8LZ87"
      },
      "execution_count": 127,
      "outputs": []
    },
    {
      "cell_type": "code",
      "source": [
        "# Listamos las imágenes de los distintas muestras\n",
        "beau_list = os.listdir(\"model_test_images/Beaujolais\")\n",
        "violet_list = os.listdir(\"model_test_images/African violet\")"
      ],
      "metadata": {
        "id": "huCLfGRIL7JN"
      },
      "execution_count": 129,
      "outputs": []
    },
    {
      "cell_type": "code",
      "source": [
        "# Hacemos split\n",
        "\n",
        "def train_test_list(target_dir):\n",
        "  image_list = os.listdir(target_dir)\n",
        "\n",
        "  random.seed(42)\n",
        "  train_split = int(0.8 * len(image_list))\n",
        "  # Sacamos una muestra random\n",
        "  train_image_list = random.sample(image_list, train_split)\n",
        "  test_image_list = list(set(image_list).difference(set(train_image_list)))\n",
        "\n",
        "  return train_image_list, test_image_list\n",
        "\n",
        "# Sacamos el train y el test\n",
        "train_image_list, test_image_list = train_test_list(\"model_test_images/Beaujolais\")"
      ],
      "metadata": {
        "colab": {
          "base_uri": "https://localhost:8080/"
        },
        "id": "Ro3toL1-O8Q4",
        "outputId": "1414f333-1f5b-4e71-81ad-3180f086b30a"
      },
      "execution_count": 136,
      "outputs": [
        {
          "output_type": "stream",
          "name": "stdout",
          "text": [
            "45 12\n"
          ]
        }
      ]
    },
    {
      "cell_type": "code",
      "source": [
        "# Nos movemos al directorio donde tenemos las imágenes de test\n",
        "\n",
        "os.walk(\"data/model_test_images\")"
      ],
      "metadata": {
        "colab": {
          "base_uri": "https://localhost:8080/"
        },
        "id": "qeX18w25NrPu",
        "outputId": "d76ef5b7-eb89-4658-f9a7-facfeed2369a"
      },
      "execution_count": 122,
      "outputs": [
        {
          "output_type": "execute_result",
          "data": {
            "text/plain": [
              "<generator object walk at 0x7f155db75dd0>"
            ]
          },
          "metadata": {},
          "execution_count": 122
        }
      ]
    },
    {
      "cell_type": "code",
      "source": [
        "os.getcwd()"
      ],
      "metadata": {
        "colab": {
          "base_uri": "https://localhost:8080/",
          "height": 35
        },
        "id": "1lbEEockzedc",
        "outputId": "bdf0bf6d-c127-4dbc-8bda-9158f4088d61"
      },
      "execution_count": 135,
      "outputs": [
        {
          "output_type": "execute_result",
          "data": {
            "application/vnd.google.colaboratory.intrinsic+json": {
              "type": "string"
            },
            "text/plain": [
              "'/content/food-not-food/data'"
            ]
          },
          "metadata": {},
          "execution_count": 135
        }
      ]
    },
    {
      "cell_type": "code",
      "source": [
        ""
      ],
      "metadata": {
        "id": "vbnX5ZOfJ4Ke"
      },
      "execution_count": 132,
      "outputs": []
    },
    {
      "cell_type": "code",
      "source": [
        ""
      ],
      "metadata": {
        "id": "ZO9OGRSrR2ri"
      },
      "execution_count": null,
      "outputs": []
    }
  ]
}